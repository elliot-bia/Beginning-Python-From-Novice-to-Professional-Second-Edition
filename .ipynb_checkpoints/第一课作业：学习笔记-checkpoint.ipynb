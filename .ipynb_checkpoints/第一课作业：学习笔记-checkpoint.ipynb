{
 "cells": [
  {
   "cell_type": "markdown",
   "metadata": {},
   "source": [
    "# 步骤一，安装ConEmu和Anaconda，并设置好环境变量"
   ]
  },
  {
   "cell_type": "markdown",
   "metadata": {},
   "source": [
    "## 安装ConEmu后自定义alias命令"
   ]
  },
  {
   "cell_type": "code",
   "execution_count": 1,
   "metadata": {},
   "outputs": [
    {
     "ename": "SyntaxError",
     "evalue": "invalid syntax (<ipython-input-1-3456c1835684>, line 2)",
     "output_type": "error",
     "traceback": [
      "\u001b[1;36m  File \u001b[1;32m\"<ipython-input-1-3456c1835684>\"\u001b[1;36m, line \u001b[1;32m2\u001b[0m\n\u001b[1;33m    alias cl=conda env list\u001b[0m\n\u001b[1;37m           ^\u001b[0m\n\u001b[1;31mSyntaxError\u001b[0m\u001b[1;31m:\u001b[0m invalid syntax\n"
     ]
    }
   ],
   "source": [
    "#alias命令如下\n",
    "alias cl=conda env list\n",
    "alias cc=conda create -n $*\n",
    "alias coa=activate $*\n",
    "alias cod=deactivate\n",
    "alias cr=conda remove --all -n $*\n",
    "#直接Alt+Enter"
   ]
  },
  {
   "cell_type": "markdown",
   "metadata": {},
   "source": [
    "## ConEmu设置到此结束"
   ]
  },
  {
   "cell_type": "markdown",
   "metadata": {},
   "source": [
    "# 步骤二，配置Conda"
   ]
  },
  {
   "cell_type": "markdown",
   "metadata": {},
   "source": [
    "一，设置国内的加速下载镜像网站，代码如下"
   ]
  },
  {
   "cell_type": "markdown",
   "metadata": {},
   "source": [
    "```\n",
    "conda config --add channels https://mirrors.tuna.tsinghua.edu.cn/anaconda/pkgs/free/\n",
    "conda config --set show_channel_urls yes\n",
    "```\n",
    "_使用markdown语法···对代码进行标记_"
   ]
  },
  {
   "cell_type": "markdown",
   "metadata": {},
   "source": [
    "二，安装完整版python2版本的conda\n",
    ">conda create -n py2 python=2 anaconda"
   ]
  },
  {
   "cell_type": "markdown",
   "metadata": {},
   "source": [
    "三，安装自己的工作目录\n",
    ">conda create -n Your_name python=3 anaconda"
   ]
  },
  {
   "cell_type": "markdown",
   "metadata": {},
   "source": [
    " # 步骤三，安装jupyter"
   ]
  },
  {
   "cell_type": "markdown",
   "metadata": {},
   "source": [
    "一，安装\n",
    ">pip install jupyter"
   ]
  },
  {
   "cell_type": "markdown",
   "metadata": {},
   "source": [
    "二，自定义jupyter的工作目录\n",
    "```\n",
    "jupyter notebook --generate-config\n",
    "```\n",
    "默认配置文件路径在```User/Name/.jupyter```\n",
    "找到```notebook_dir```后进行设置\n",
    "\n",
    "__注意：python环境下会对路径进行转义，最好进行对 ```  \\  ``` 进行```  \\\\  ```处理__"
   ]
  },
  {
   "cell_type": "markdown",
   "metadata": {},
   "source": [
    "# 完成！Enjoy！"
   ]
  }
 ],
 "metadata": {
  "kernelspec": {
   "display_name": "Python 3",
   "language": "python",
   "name": "python3"
  },
  "language_info": {
   "codemirror_mode": {
    "name": "ipython",
    "version": 3
   },
   "file_extension": ".py",
   "mimetype": "text/x-python",
   "name": "python",
   "nbconvert_exporter": "python",
   "pygments_lexer": "ipython3",
   "version": "3.7.1"
  }
 },
 "nbformat": 4,
 "nbformat_minor": 2
}
