{
 "cells": [
  {
   "cell_type": "code",
   "execution_count": 2,
   "metadata": {},
   "outputs": [],
   "source": [
    "words = '书：book'\n",
    "words.split?"
   ]
  },
  {
   "cell_type": "code",
   "execution_count": null,
   "metadata": {},
   "outputs": [],
   "source": [
    "# 实现一个翻译小程序\n",
    "# 1 可以查询单词\n",
    "# 2 可以自定义补充单词和解释\n",
    "# 3 可以删除某个词\n",
    "print('欢迎来到小词典程序'.center(30,'-'))\n",
    "orig_dict = {'中文':'Chinese', '书':'Book', '代码':'code','英语':'English'}\n",
    "query = input('请输入要查询的中文：')\n",
    "\n",
    "# 判断是否已经存在\n",
    "if(orig_dict.get(query,'')):\n",
    "    print(f'你查询的中文为：{query},意思是:{orig_dict[query]}')\n",
    "else:\n",
    "    add = input('没有查到，是否愿意帮助扩充词库（y/n）：')\n",
    "    if add == 'y':\n",
    "        print(orig_dict)\n",
    "        print('谢谢帮助，请添加单词和相关解释，用冒号分割，')\n",
    "        words = input('实例（书：book）')\n",
    "        words = words.split(':')\n",
    "        orig_dict[words[0]] = words[1]\n",
    "        print(orig_dict)\n",
    "    else:\n",
    "        print('再见')"
   ]
  },
  {
   "cell_type": "code",
   "execution_count": null,
   "metadata": {},
   "outputs": [],
   "source": []
  },
  {
   "cell_type": "code",
   "execution_count": 2,
   "metadata": {},
   "outputs": [
    {
     "name": "stdout",
     "output_type": "stream",
     "text": [
      "----------欢迎来到小词典程序-----------\n",
      "请输入要查询的中文：我\n",
      "没有查到，是否愿意帮助扩充词库（y/n）：y\n",
      "{'中文': 'Chinese', '书': 'Book', '代码': 'code', '英语': 'English'}\n",
      "谢谢帮助，请添加单词和相关解释，用冒号分割，\n",
      "实例（书：book）我 i\n",
      "{'中文': 'Chinese', '书': 'Book', '代码': 'code', '英语': 'English', '我': 'i'}\n"
     ]
    }
   ],
   "source": [
    "# 实现一个翻译小程序\n",
    "# 1 可以查询单词\n",
    "# 2 可以自定义补充单词和解释\n",
    "# 3 可以删除某个词\n",
    "print('欢迎来到小词典程序'.center(30,'-'))\n",
    "orig_dict = {'中文':'Chinese', '书':'Book', '代码':'code','英语':'English'}\n",
    "query = input('请输入要查询的中文：')\n",
    "\n",
    "# 判断是否已经存在\n",
    "if(orig_dict.get(query,'')):\n",
    "    print(f'你查询的中文为：{query},意思是:{orig_dict[query]}')\n",
    "else:\n",
    "    add = input('没有查到，是否愿意帮助扩充词库（y/n）：')\n",
    "    if add == 'y':\n",
    "        print(orig_dict)\n",
    "        print('谢谢帮助，请添加单词和相关解释，用冒号分割，')\n",
    "        words = input('实例（书：book）')\n",
    "        words = words.split(' ') # 这里需要注意的是，如果选用中文冒号，输入的时候只能用中文冒号。用空格就只能用空格\n",
    "        orig_dict[words[0]] = words[1]\n",
    "        print(orig_dict)\n",
    "    else:\n",
    "        print('再见')"
   ]
  },
  {
   "cell_type": "code",
   "execution_count": null,
   "metadata": {},
   "outputs": [],
   "source": []
  },
  {
   "cell_type": "code",
   "execution_count": null,
   "metadata": {},
   "outputs": [],
   "source": []
  },
  {
   "cell_type": "code",
   "execution_count": null,
   "metadata": {},
   "outputs": [],
   "source": []
  },
  {
   "cell_type": "code",
   "execution_count": null,
   "metadata": {},
   "outputs": [],
   "source": []
  },
  {
   "cell_type": "code",
   "execution_count": null,
   "metadata": {},
   "outputs": [],
   "source": []
  },
  {
   "cell_type": "code",
   "execution_count": null,
   "metadata": {},
   "outputs": [],
   "source": []
  }
 ],
 "metadata": {
  "kernelspec": {
   "display_name": "Python 3",
   "language": "python",
   "name": "python3"
  },
  "language_info": {
   "codemirror_mode": {
    "name": "ipython",
    "version": 3
   },
   "file_extension": ".py",
   "mimetype": "text/x-python",
   "name": "python",
   "nbconvert_exporter": "python",
   "pygments_lexer": "ipython3",
   "version": "3.7.1"
  }
 },
 "nbformat": 4,
 "nbformat_minor": 2
}
