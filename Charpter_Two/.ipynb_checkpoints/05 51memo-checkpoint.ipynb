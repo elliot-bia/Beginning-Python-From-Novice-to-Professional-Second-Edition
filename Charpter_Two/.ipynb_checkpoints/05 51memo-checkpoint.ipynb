{
 "cells": [
  {
   "cell_type": "markdown",
   "metadata": {},
   "source": [
    "# 2.4.5 案例：21点\n",
    "- 两个玩家，游戏开始先输入名字\n",
    "- 用字典保存每个玩家信息：姓名，获胜次数\n",
    "- 电脑随机产生2数，每个玩家轮流猜一个数，与电脑随机两个数求和，最接近21的获胜\n",
    "- 每轮结束显示玩家信息\n",
    "- 按q退出游戏"
   ]
  },
  {
   "cell_type": "code",
   "execution_count": null,
   "metadata": {},
   "outputs": [],
   "source": []
  }
 ],
 "metadata": {
  "kernelspec": {
   "display_name": "Python 3",
   "language": "python",
   "name": "python3"
  },
  "language_info": {
   "codemirror_mode": {
    "name": "ipython",
    "version": 3
   },
   "file_extension": ".py",
   "mimetype": "text/x-python",
   "name": "python",
   "nbconvert_exporter": "python",
   "pygments_lexer": "ipython3",
   "version": "3.7.1"
  }
 },
 "nbformat": 4,
 "nbformat_minor": 2
}
