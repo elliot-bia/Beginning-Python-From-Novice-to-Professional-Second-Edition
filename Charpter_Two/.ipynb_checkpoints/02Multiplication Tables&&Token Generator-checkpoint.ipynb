{
 "cells": [
  {
   "cell_type": "code",
   "execution_count": 4,
   "metadata": {},
   "outputs": [
    {
     "name": "stdout",
     "output_type": "stream",
     "text": [
      "1*1=1  \n",
      "1*2=2  2*2=4  \n",
      "1*3=3  2*3=6  3*3=9  \n",
      "1*4=4  2*4=8  3*4=12 4*4=16 \n",
      "1*5=5  2*5=10 3*5=15 4*5=20 5*5=25 \n",
      "1*6=6  2*6=12 3*6=18 4*6=24 5*6=30 6*6=36 \n",
      "1*7=7  2*7=14 3*7=21 4*7=28 5*7=35 6*7=42 7*7=49 \n",
      "1*8=8  2*8=16 3*8=24 4*8=32 5*8=40 6*8=48 7*8=56 8*8=64 \n",
      "1*9=9  2*9=18 3*9=27 4*9=36 5*9=45 6*9=54 7*9=63 8*9=72 9*9=81 \n"
     ]
    }
   ],
   "source": [
    "for i in range(1,10):\n",
    "    for j in range(1,i+1):\n",
    "        print(f\"{j}*{i}={str(i*j).ljust(2)}\",end=\" \")\n",
    "    print()"
   ]
  },
  {
   "cell_type": "code",
   "execution_count": 5,
   "metadata": {},
   "outputs": [
    {
     "name": "stdout",
     "output_type": "stream",
     "text": [
      "一一得一  \n",
      "一二得二  二二得四  \n",
      "一三得三  二三得六  三三得九  \n",
      "一四得四  二四得八  三四得一二 四四得一六 \n",
      "一五得五  二五得一零 三五得一五 四五得二零 五五得二五 \n",
      "一六得六  二六得一二 三六得一八 四六得二四 五六得三零 六六得三六 \n",
      "一七得七  二七得一四 三七得二一 四七得二八 五七得三五 六七得四二 七七得四九 \n",
      "一八得八  二八得一六 三八得二四 四八得三二 五八得四零 六八得四八 七八得五六 八八得六四 \n",
      "一九得九  二九得一八 三九得二七 四九得三六 五九得四五 六九得五四 七九得六三 八九得七二 九九得八一 \n"
     ]
    }
   ],
   "source": [
    "# 中文乘法表\n",
    "ch_number = [' ','一','二','三','四','五','六','七','八','九','零']\n",
    "number = [' ','1','2','3','4','5','6','7','8','9','0']\n",
    "for i in range(1,10):\n",
    "    for j in range(1,i+1):\n",
    "        result = str(i*j).ljust(2)\n",
    "        left = ch_number[number.index(result[0])]\n",
    "        right = ch_number[number.index(result[1])]\n",
    "        print(f\"{ch_number[j]}{ch_number[i]}得{left}{right}\",end=\" \")\n",
    "    print()\n",
    "        \n",
    "        "
   ]
  },
  {
   "cell_type": "code",
   "execution_count": 6,
   "metadata": {},
   "outputs": [],
   "source": [
    "# Token 生成器\n",
    "import random\n"
   ]
  },
  {
   "cell_type": "code",
   "execution_count": 17,
   "metadata": {},
   "outputs": [
    {
     "data": {
      "text/plain": [
       "'w'"
      ]
     },
     "execution_count": 17,
     "metadata": {},
     "output_type": "execute_result"
    }
   ],
   "source": [
    "random.choice('koshdjwipauehfiuwgfuiwafgwa')"
   ]
  },
  {
   "cell_type": "code",
   "execution_count": 33,
   "metadata": {},
   "outputs": [
    {
     "data": {
      "text/plain": [
       "'a24xdjs'"
      ]
     },
     "execution_count": 33,
     "metadata": {},
     "output_type": "execute_result"
    }
   ],
   "source": [
    "str_list = ['a','2','4','x','d','js']\n",
    "s=''\n",
    "s.join(str_list)"
   ]
  },
  {
   "cell_type": "code",
   "execution_count": 34,
   "metadata": {},
   "outputs": [
    {
     "name": "stdout",
     "output_type": "stream",
     "text": [
      "num:3\n"
     ]
    },
    {
     "data": {
      "text/plain": [
       "'uwf'"
      ]
     },
     "execution_count": 34,
     "metadata": {},
     "output_type": "execute_result"
    }
   ],
   "source": [
    "tokens = []\n",
    "count = input('num:') #str\n",
    "for i in range(int(count)):\n",
    "    s = random.choice('sdfhajfwhiuahf')\n",
    "    tokens.append(s)\n",
    "\"\".join(tokens)\n"
   ]
  },
  {
   "cell_type": "code",
   "execution_count": 42,
   "metadata": {},
   "outputs": [
    {
     "data": {
      "text/plain": [
       "'CML2bGn4dJLeVSME'"
      ]
     },
     "execution_count": 42,
     "metadata": {},
     "output_type": "execute_result"
    }
   ],
   "source": [
    "import string\n",
    "count = 16\n",
    "str_from = string.ascii_letters + string.digits\n",
    "\"\".join([random.choice(str_from) for _ in range(count)])"
   ]
  },
  {
   "cell_type": "code",
   "execution_count": null,
   "metadata": {},
   "outputs": [],
   "source": []
  }
 ],
 "metadata": {
  "kernelspec": {
   "display_name": "Python 3",
   "language": "python",
   "name": "python3"
  },
  "language_info": {
   "codemirror_mode": {
    "name": "ipython",
    "version": 3
   },
   "file_extension": ".py",
   "mimetype": "text/x-python",
   "name": "python",
   "nbconvert_exporter": "python",
   "pygments_lexer": "ipython3",
   "version": "3.7.1"
  }
 },
 "nbformat": 4,
 "nbformat_minor": 2
}
