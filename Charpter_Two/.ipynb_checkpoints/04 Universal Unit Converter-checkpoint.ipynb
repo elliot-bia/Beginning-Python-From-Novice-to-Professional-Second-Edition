{
 "cells": [
  {
   "cell_type": "code",
   "execution_count": 1,
   "metadata": {},
   "outputs": [
    {
     "name": "stdout",
     "output_type": "stream",
     "text": [
      "*********欢迎使用万能单位转换器**********\n",
      "T 温度转换\n",
      "L 长度转换\n",
      "C 货币转换\n",
      "请输入转换类型：T\n",
      "请输入温度（示例：1C或1F）：10C\n",
      "50.0\n"
     ]
    }
   ],
   "source": [
    "print('欢迎使用万能单位转换器'.center(30,'*'))\n",
    "menu = {\n",
    "    'T':'温度转换',\n",
    "    'L':'长度转换',\n",
    "    'C':'货币转换'\n",
    "}\n",
    "for k,v in menu.items():\n",
    "    print(k,v)\n",
    "choose = input('请输入转换类型：')\n",
    "if choose == 'T':\n",
    "    temp = input('请输入温度（示例：1C或1F）：')\n",
    "    temp = float(temp.strip('C').strip('F'))\n",
    "    \n",
    "    #摄氏温度转华氏温度 Tf=（9/5）Tc+32\n",
    "    Tf = (9/5) * temp +32\n",
    "    print(Tf)\n",
    "    # 华氏温度转摄氏温度 Tc=（5/9）（Tf-32）\n",
    "else:\n",
    "    print('开发中…再见')\n",
    "    "
   ]
  },
  {
   "cell_type": "code",
   "execution_count": null,
   "metadata": {},
   "outputs": [],
   "source": [
    " "
   ]
  }
 ],
 "metadata": {
  "kernelspec": {
   "display_name": "Python 3",
   "language": "python",
   "name": "python3"
  },
  "language_info": {
   "codemirror_mode": {
    "name": "ipython",
    "version": 3
   },
   "file_extension": ".py",
   "mimetype": "text/x-python",
   "name": "python",
   "nbconvert_exporter": "python",
   "pygments_lexer": "ipython3",
   "version": "3.7.1"
  }
 },
 "nbformat": 4,
 "nbformat_minor": 2
}
